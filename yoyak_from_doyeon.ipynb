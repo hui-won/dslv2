{
 "cells": [
  {
   "cell_type": "code",
   "execution_count": null,
   "id": "2af70fd6",
   "metadata": {
    "tags": []
   },
   "outputs": [],
   "source": [
    "homepath=\"../../Untitled Folder/\"\n",
    "companypath=\"../materials/\"\n",
    "path=companypath"
   ]
  },
  {
   "cell_type": "markdown",
   "id": "4de6a9db",
   "metadata": {},
   "source": [
    "# 기본"
   ]
  },
  {
   "cell_type": "code",
   "execution_count": null,
   "id": "4ae8cc80",
   "metadata": {},
   "outputs": [],
   "source": [
    "import os\n",
    "import pandas as pd\n",
    "import numpy as np"
   ]
  },
  {
   "cell_type": "markdown",
   "id": "f0d05c30",
   "metadata": {
    "tags": []
   },
   "source": [
    "# 전처리"
   ]
  },
  {
   "cell_type": "code",
   "execution_count": null,
   "id": "a471cd04",
   "metadata": {},
   "outputs": [],
   "source": [
    "# normalization\n",
    "from sklearn.preprocessing import MinMaxScaler\n",
    "from sklearn.preprocessing import StandardScaler\n",
    "# inverse_transform()"
   ]
  },
  {
   "cell_type": "code",
   "execution_count": null,
   "id": "5f56fe08-be18-42f2-bcf3-cbad5430a1ab",
   "metadata": {
    "tags": []
   },
   "outputs": [],
   "source": [
    "df=pd.read_csv(path+\"iris.csv\")\n",
    "df_1=df.head()\n",
    "df_1"
   ]
  },
  {
   "cell_type": "code",
   "execution_count": null,
   "id": "95e4ab23-a3e3-4c4c-b015-eedf96070e85",
   "metadata": {
    "tags": []
   },
   "outputs": [],
   "source": [
    "nor_minmax=MinMaxScaler().fit(df_1.iloc[:,:-1]) # 규칙을 만듦"
   ]
  },
  {
   "cell_type": "code",
   "execution_count": null,
   "id": "60d4edcb-9be6-40bb-99b2-91d259a4f93d",
   "metadata": {
    "tags": []
   },
   "outputs": [],
   "source": [
    "arr_nor=nor_minmax.transform(df_1.iloc[:,:-1]) #데이터를 넣음\n",
    "df_minmax=pd.DataFrame(arr_nor,columns=df_1.columns[:4])\n",
    "df_minmax"
   ]
  },
  {
   "cell_type": "code",
   "execution_count": null,
   "id": "10bdf718-3261-471a-925e-636faa843bbd",
   "metadata": {
    "tags": []
   },
   "outputs": [],
   "source": [
    "pd.DataFrame(nor_minmax.inverse_transform(arr_nor),columns=df_1.columns[:4])\n",
    "# 역변환"
   ]
  },
  {
   "cell_type": "markdown",
   "id": "7e64693e",
   "metadata": {
    "tags": []
   },
   "source": [
    "# 통계\n",
    "https://datadoctorblog.com/2020/09/16/Py-prepare-skill-test-03-stat/"
   ]
  },
  {
   "cell_type": "code",
   "execution_count": null,
   "id": "66f4efb1",
   "metadata": {
    "tags": []
   },
   "outputs": [],
   "source": [
    "# correlation\n",
    "from scipy.stats import pearsonr # pearson\n",
    "from scipy.stats import spearmanr # spearman\n",
    "from scipy.stats import kendalltau # kendall\n",
    "\n",
    "# pandas에 제공되는 .corr()\n",
    "df=pd.read_csv(path+\"bike.csv\")\n",
    "df[[\"season\",\"holiday\"]].corr() #method인자에 pearson, kendall, spearman 입력가능\n",
    "\n",
    "# SciPy\n",
    "#pearsonr(ser1,ser2)\n",
    "## (0.8257047804016666, 0.04292079349918977) # 검정통계량, p-value"
   ]
  },
  {
   "cell_type": "code",
   "execution_count": null,
   "id": "3a1204a6",
   "metadata": {},
   "outputs": [],
   "source": [
    "# independent test\n",
    "from scipy.stats import chi2_contingency\n",
    "\n",
    "# t-test\n",
    "from scipy.stats import ttest_1samp\n",
    "from scipy.stats import ttest_rel\n",
    "from scipy.stats import ttest_ind\n",
    "\n",
    "# variance\n",
    "from scipy.stats import bartlett\n",
    "from scipy.stats import levene\n",
    "#from scipy.stats import f.cdf # F-test(cumulative distrubution function of F distribution)\n",
    "\n",
    "# ANOVA\n",
    "from scipy.stats import f_oneway\n",
    "from statsmodels.formula.api import ols\n",
    "from statsmodels.stats.anova import anova_lm\n",
    "from statsmodels.stats.multicomp import pairwise_tukeyhsd # post-process of ANOVA"
   ]
  },
  {
   "cell_type": "code",
   "execution_count": null,
   "id": "7f39a227",
   "metadata": {},
   "outputs": [],
   "source": [
    "from statsmodels.formula.api import ols\n",
    "from statsmodels.stats.anova import anova_lm\n",
    "\n",
    "ser_1 = pd.Series([2, 5, 3, 4, 6, 2, 3])\n",
    "ser_2 = pd.Series([7, 3, 6, 5, 2, 6, 7])\n",
    "ser_3 = pd.Series([9, 11, 4, 8, 2, 15, 3])\n",
    "\n",
    "df_aov = pd.DataFrame([ser_1, ser_2, ser_3]).transpose().melt()\n",
    "\n",
    "formula = \"value ~ C(variable)\" # C() 범주형 변수임을 명시\n",
    "lm = ols(formula, df_aov).fit()\n",
    "anova_lm(lm)\n",
    "#.resid : 잔차추출\n",
    "#.params : 모델 객체에서 회귀 계수 및 절편 추출"
   ]
  },
  {
   "cell_type": "markdown",
   "id": "48820860",
   "metadata": {
    "tags": []
   },
   "source": [
    "# 머신러닝"
   ]
  },
  {
   "cell_type": "markdown",
   "id": "63d9a590",
   "metadata": {},
   "source": [
    "## 데이터 분할"
   ]
  },
  {
   "cell_type": "code",
   "execution_count": null,
   "id": "b495774b",
   "metadata": {},
   "outputs": [],
   "source": [
    "from sklearn.model_selection import train_test_split\n",
    "df.sample(n=2, random_state=123).shape"
   ]
  },
  {
   "cell_type": "markdown",
   "id": "c3fc0550",
   "metadata": {},
   "source": [
    "## 모델링\n",
    "https://datadoctorblog.com/2020/09/16/Py-prepare-skill-test-04-ML/"
   ]
  },
  {
   "cell_type": "code",
   "execution_count": null,
   "id": "18566085",
   "metadata": {},
   "outputs": [],
   "source": [
    "from sklearn.neighbors import KNeighborsClassifier # k-NN\n",
    "from sklearn.neighbors import KNeighborsRegressor # k-NN\n",
    "from sklearn.cluster import AgglomerativeClustering # 계층적 준집 분석\n",
    "from sklearn.cluster import KMeans # K-means\n",
    "from statsmodels.formula.api import ols # 선형회귀\n",
    "from sklearn.linear_model import LinearRegression  # 선형회귀\n",
    "from statsmodels.api import Logit # 로지스틱 회귀\n",
    "from sklearn.linear_model import LogisticRegression # 로지스틱 회귀\n",
    "from sklearn.tree import DecisionTreeClassifier # Decision Tree\n",
    "from sklearn.tree import DecisionTreeRegressor # Decision Tree\n",
    "from sklearn.naive_bayes import GaussianNB # Naive Bayes\n",
    "\n",
    "# classification tree : 이진분류시, Gini index 기반의 CART 사용\n",
    "# regrassion tree : 노드 분류할때 평균&표준편차 사용함."
   ]
  },
  {
   "cell_type": "code",
   "execution_count": null,
   "id": "3160b668",
   "metadata": {},
   "outputs": [],
   "source": [
    "from statsmodels.formula.api import ols\n",
    "model_1 = ols(\"SepalLength ~ SepalWidth + PetalLength\", data = df).fit()\n",
    "model_1.summary()\n",
    "#.resid : 잔차추출\n",
    "#.params : 모델 객체에서 회귀 계수 및 절편 추출\n",
    "df[\"pred\"]=model_1.predict(df)\n",
    "df.head(3)\n",
    "\n",
    "#R-squared가 높음 (설명력, 결정계수)\n",
    "# intercept : 절편\n",
    "# 검정통계량 t\n",
    "# 검정통계량의 절대값보다 큰 t가 나올 확률 P가 0이나 다름없다.\n",
    "# => 귀무가설을 기각하고 대립가설을 채택해서 2.2299라는 것이 통계적으로 의미가 있고\n",
    "# 독립변수 PW에 대한 계수가 0이 아니라 계산된 특정값을 가진다.\n",
    "# 그래서 y = 2.2299 x + 1.0836 이런 수식이 나오게 된다."
   ]
  },
  {
   "cell_type": "code",
   "execution_count": null,
   "id": "2385bdf3",
   "metadata": {},
   "outputs": [],
   "source": [
    "from sklearn.linear_model import LinearRegression\n",
    "model_1 = LinearRegression(fit_intercept = True, normalize = True)\n",
    "model_1.fit(X = df[[\"SepalWidth\", \"PetalLength\"]], y = df[\"SepalLength\"])\n",
    "model_1.coef_ #회귀 계수\n",
    "## array([0.59552475, 0.47192004])\n",
    "\n",
    "model_1.intercept_ #절편\n",
    "## 2.249140160383228"
   ]
  },
  {
   "cell_type": "code",
   "execution_count": null,
   "id": "68d6a22e",
   "metadata": {},
   "outputs": [],
   "source": [
    "from statsmodels.api import Logit\n",
    "model_2 = Logit(endog = df[\"is_setosa\"], exog = df.iloc[:, :2]).fit()\n",
    "model_2.summary()\n",
    "model_2.params # coefficient\n",
    "## SepalLength    -7.529945\n",
    "## SepalWidth     13.130734\n",
    "## dtype: float64\n",
    "\n",
    "model.pvalues\n",
    "model.tvalues\n",
    "\n",
    "np.exp(model_2.params) # OR, Odds Ratio\n",
    "## SepalLength         0.000537\n",
    "## SepalWidth     504202.644901\n",
    "## dtype: float64\n",
    "\n",
    "pred=model.predict(df)\n",
    "(pred>0.5)+0"
   ]
  },
  {
   "cell_type": "code",
   "execution_count": null,
   "id": "1b89a3a6",
   "metadata": {},
   "outputs": [],
   "source": [
    "from sklearn.linear_model import LogisticRegression\n",
    "model_2 = LogisticRegression(solver = \"newton-cg\").fit(X = df.iloc[:, :2], y = df[\"is_setosa\"])\n",
    "\n",
    "model_2.coef_\n",
    "## array([[-3.38829663,  3.16451973]])\n",
    "\n",
    "np.exp(model_2.coef_) # OR, Odds Ratio\n",
    "## array([[ 0.03376614, 23.67736985]])"
   ]
  },
  {
   "cell_type": "code",
   "execution_count": null,
   "id": "41ab0df9",
   "metadata": {},
   "outputs": [],
   "source": [
    "from sklearn.cluster import KMeans\n",
    "model_3 = KMeans(n_clusters = 3, random_state = 123).fit(X = df.iloc[:, :4])\n",
    "\n",
    "model_3.cluster_centers_ #각 군집의 중심점 출력\n",
    "## array([[5.006     , 3.428     , 1.462     , 0.246     ],\n",
    "##        [6.85      , 3.07368421, 5.74210526, 2.07105263],\n",
    "##        [5.9016129 , 2.7483871 , 4.39354839, 1.43387097]])\n",
    "\n",
    "model_3.labels_ #각 데이터가 속하는 군집의 번호\n",
    "## array([0, 0, 0, 0, 0, 0, 0, 0, 0, 0, 0, 0, 0, 0, 0, 0, 0, 0, 0, 0, 0, 0,\n",
    "##        0, 0, 0, 0, 0, 0, 0, 0, 0, 0, 0, 0, 0, 0, 0, 0, 0, 0, 0, 0, 0, 0,\n",
    "##        0, 0, 0, 0, 0, 0, 2, 2, 1, 2, 2, 2, 2, 2, 2, 2, 2, 2, 2, 2, 2, 2,\n",
    "##        2, 2, 2, 2, 2, 2, 2, 2, 2, 2, 2, 1, 2, 2, 2, 2, 2, 2, 2, 2, 2, 2,\n",
    "##        2, 2, 2, 2, 2, 2, 2, 2, 2, 2, 2, 2, 1, 2, 1, 1, 1, 1, 2, 1, 1, 1,\n",
    "##        1, 1, 1, 2, 2, 1, 1, 1, 1, 2, 1, 2, 1, 2, 1, 1, 2, 2, 1, 1, 1, 1,\n",
    "##        1, 2, 1, 1, 1, 1, 2, 1, 1, 1, 2, 1, 1, 1, 2, 1, 1, 2])\n",
    "\n",
    "from sklearn.metrics import silhouette_score\n",
    "silhouette_score(X = df_x, labels = model_3.labels_)\n",
    "## 0.5528190123564102"
   ]
  },
  {
   "cell_type": "code",
   "execution_count": null,
   "id": "155b23fb",
   "metadata": {},
   "outputs": [],
   "source": [
    "from sklearn.cluster import AgglomerativeClustering\n",
    "model_4 = AgglomerativeClustering(n_clusters = 3).fit(X = df.iloc[:, :4])\n",
    "\n",
    "model_4.labels_\n",
    "## array([1, 1, 1, 1, 1, 1, 1, 1, 1, 1, 1, 1, 1, 1, 1, 1, 1, 1, 1, 1, 1, 1,\n",
    "##        1, 1, 1, 1, 1, 1, 1, 1, 1, 1, 1, 1, 1, 1, 1, 1, 1, 1, 1, 1, 1, 1,\n",
    "##        1, 1, 1, 1, 1, 1, 0, 0, 0, 0, 0, 0, 0, 0, 0, 0, 0, 0, 0, 0, 0, 0,\n",
    "##        0, 0, 0, 0, 0, 0, 0, 0, 0, 0, 0, 2, 0, 0, 0, 0, 0, 0, 0, 0, 0, 0,\n",
    "##        0, 0, 0, 0, 0, 0, 0, 0, 0, 0, 0, 0, 2, 0, 2, 2, 2, 2, 0, 2, 2, 2,\n",
    "##        2, 2, 2, 0, 0, 2, 2, 2, 2, 0, 2, 0, 2, 0, 2, 2, 0, 0, 2, 2, 2, 2,\n",
    "##        2, 0, 0, 2, 2, 2, 0, 2, 2, 2, 0, 2, 2, 2, 0, 2, 2, 0], dtype=int64)\n"
   ]
  },
  {
   "cell_type": "code",
   "execution_count": null,
   "id": "2328cd17",
   "metadata": {},
   "outputs": [],
   "source": [
    "from sklearn.neighbors import KNeighborsClassifier\n",
    "model_5 = KNeighborsClassifier(n_neighbors = 5).fit(X = df.iloc[:, :4], y = df[\"Species\"])\n",
    "model_5.predict(df.iloc[:, :4])[:20]\n",
    "## array(['setosa', 'setosa', 'setosa', 'setosa', 'setosa', 'setosa',\n",
    "##        'setosa', 'setosa', 'setosa', 'setosa', 'setosa', 'setosa',\n",
    "##        'setosa', 'setosa', 'setosa', 'setosa', 'setosa', 'setosa',\n",
    "##        'setosa', 'setosa'], dtype=object)"
   ]
  },
  {
   "cell_type": "code",
   "execution_count": null,
   "id": "72d23613",
   "metadata": {},
   "outputs": [],
   "source": [
    "from sklearn.tree import DecisionTreeClassifier\n",
    "model_6 = DecisionTreeClassifier().fit(X = df.iloc[:, :4], y = df[\"Species\"])\n",
    "\n",
    "model_6.feature_importances_\n",
    "## array([0.        , 0.01333333, 0.56405596, 0.42261071])\n",
    "\n",
    "model_6.predict(X = df.iloc[:, :4])[:20]\n",
    "## array(['setosa', 'setosa', 'setosa', 'setosa', 'setosa', 'setosa',\n",
    "##        'setosa', 'setosa', 'setosa', 'setosa', 'setosa', 'setosa',\n",
    "##        'setosa', 'setosa', 'setosa', 'setosa', 'setosa', 'setosa',\n",
    "##        'setosa', 'setosa'], dtype=object)"
   ]
  },
  {
   "cell_type": "code",
   "execution_count": null,
   "id": "0777bfe2",
   "metadata": {},
   "outputs": [],
   "source": [
    "from sklearn.naive_bayes import GaussianNB\n",
    "model_7 = GaussianNB().fit(X = df.iloc[:, :4], y = df[\"Species\"])\n",
    "\n",
    "model_7.class_prior_ #종속변수 사전확률\n",
    "\n",
    "model_7.theta_ #계수같은 느낌?\n",
    "\n",
    "model_7.classes_\n",
    "## array(['setosa', 'versicolor', 'virginica'], dtype='<U10')\n",
    "\n",
    "model_7.predict_proba(df.iloc[:, :4])[:4, ] # 'setosa', 'versicolor', 'virginica'\n",
    "## array([[1.00000000e+00, 1.35784265e-18, 7.11283512e-26],\n",
    "##        [1.00000000e+00, 1.51480769e-17, 2.34820051e-25],\n",
    "##        [1.00000000e+00, 1.07304179e-18, 2.34026774e-26],\n",
    "##        [1.00000000e+00, 1.46619543e-17, 2.95492722e-25]])"
   ]
  },
  {
   "cell_type": "markdown",
   "id": "720f7be8",
   "metadata": {
    "tags": []
   },
   "source": [
    "# 거리?"
   ]
  },
  {
   "cell_type": "code",
   "execution_count": null,
   "id": "7e4ce5c8",
   "metadata": {},
   "outputs": [],
   "source": [
    "scipy spatial distance\n",
    "euclidean() #유클리드 거리\n",
    "cityblock() #맨하탄\n",
    "cosine() #코사인 유사도\n",
    "jaccard() #자카드 유사도"
   ]
  },
  {
   "cell_type": "markdown",
   "id": "afd66bdd",
   "metadata": {},
   "source": [
    "## 평가 - 회귀"
   ]
  },
  {
   "cell_type": "code",
   "execution_count": null,
   "id": "b8c39679",
   "metadata": {},
   "outputs": [],
   "source": [
    "from sklearn.metrics import mean_absolute_error # MAE\n",
    "from sklearn.metrics import mean_absolute_percentage_error # MAPE\n",
    "#print(abs((ser_true_value - ser_pred_value) / ser_true_value).sum() * 100) # MAPE\n",
    "\n",
    "from sklearn.metrics import mean_squared_error # MSE\n",
    "#mean_squared_error() ** 0.5 ## RMSE"
   ]
  },
  {
   "cell_type": "markdown",
   "id": "483aab8c",
   "metadata": {},
   "source": [
    "## 평가 - 분류"
   ]
  },
  {
   "cell_type": "code",
   "execution_count": null,
   "id": "f6333d2a",
   "metadata": {},
   "outputs": [],
   "source": [
    "from sklearn.metrics import roc_auc_score # AUC\n",
    "\n",
    "from sklearn.metrics import accuracy_score\n",
    "from sklearn.metrics import precision_score\n",
    "from sklearn.metrics import recall_score\n",
    "from sklearn.metrics import f1_score"
   ]
  },
  {
   "cell_type": "markdown",
   "id": "9033f3cb",
   "metadata": {
    "tags": []
   },
   "source": [
    "# 다중 공선성\n",
    "- 회귀 모델의 독립변수간 강한 상관관계가 나타나는것\n",
    "\n",
    "#### patsy\n",
    "- dmatrices\n",
    "    - 수식을 기반으로 데이터 행렬을 생성\n",
    "    - 분산 팽창 계수 확인을 위해 입력데이터를 전처리 할때 필요\n",
    "    - return_type인자에 \"dataframe\"으로 설정 시 후처리 용이\n",
    "\n",
    "#### statsmodels\n",
    "- variance_inflation_factor\n",
    "    - 분산 팽창 계수 연산\n",
    "    - 연산을 위해 반복문 또는 list comprehension사용"
   ]
  },
  {
   "cell_type": "code",
   "execution_count": null,
   "id": "f9d17777",
   "metadata": {},
   "outputs": [],
   "source": [
    "patsy - dmatrices()\n",
    "statsmodels - variance_inflation_factor()"
   ]
  },
  {
   "cell_type": "code",
   "execution_count": null,
   "id": "78a5838d",
   "metadata": {},
   "outputs": [],
   "source": [
    "import pandas as pd\n",
    "from patsy import dmatrices\n",
    "from statsmodels.formula.api import ols\n",
    "from statsmodels.stats.outliers_influence import variance_inflation_factor\n",
    "\n",
    "df=pd.read_csv(path+\"bike.csv\")\n",
    "\n",
    "df_model=df.loc[:,\"temp\":\"casual\"]\n",
    "#formula=\"casual ~ \" +\" + \".join(df_sub.columns[:-1])\n",
    "y,X=dmatrices(\"casual ~ temp + atemp + humidity + windspeed\",\n",
    "             df_model, return_type=\"dataframe\")\n",
    "\n",
    "vif=pd.DataFrame()\n",
    "vif[\"VIF Factor\"]=[variance_inflation_factor(X.values,i) for i in range(X.shape[1])]\n",
    "vif[\"features\"]=X.columns\n",
    "vif\n",
    "\n",
    "# temp, atemp, intercept의 다중공선성이 높게 나옴. 이들중에 한개는 빼줘야함"
   ]
  },
  {
   "cell_type": "code",
   "execution_count": null,
   "id": "2d1eb3a3",
   "metadata": {},
   "outputs": [],
   "source": []
  },
  {
   "cell_type": "markdown",
   "id": "5039e812-a795-461a-ad5c-d3a2105f0821",
   "metadata": {},
   "source": [
    "# ----------------------------------------"
   ]
  },
  {
   "cell_type": "code",
   "execution_count": null,
   "id": "eb3d788d",
   "metadata": {},
   "outputs": [],
   "source": []
  },
  {
   "cell_type": "code",
   "execution_count": null,
   "id": "2aae56c2",
   "metadata": {},
   "outputs": [],
   "source": []
  },
  {
   "cell_type": "code",
   "execution_count": null,
   "id": "bbb0c143",
   "metadata": {},
   "outputs": [],
   "source": []
  },
  {
   "cell_type": "markdown",
   "id": "0fbb6646",
   "metadata": {},
   "source": [
    "# 데이터구조"
   ]
  },
  {
   "cell_type": "code",
   "execution_count": null,
   "id": "249c57f9",
   "metadata": {},
   "outputs": [],
   "source": [
    "# 기본\n",
    "{\"A\": [1, 2, 3], \"B\": [\"a\", \"b\"]}\n",
    "# numpy\n",
    "np.array([[1, 2], [3, 4]])\n",
    "np.arange(5, 10, 2) # 수열\n",
    "np.r_[1, 2, 5:9] # 이산, 연속 수열 생성가능\n",
    "# pandas\n",
    "pd.Series([1, 2, 3])\n",
    "pd.DataFrame({\"A\": [1, 2], \"B\": [\"a\", \"b\"]})\n",
    "pd.DataFrame(data = [[1, 2], [3, 4]], columns = [\"a\", \"b\"])"
   ]
  },
  {
   "cell_type": "markdown",
   "id": "cc187fe9",
   "metadata": {},
   "source": [
    "# 데이터 읽기"
   ]
  },
  {
   "cell_type": "code",
   "execution_count": null,
   "id": "9fb1668e",
   "metadata": {},
   "outputs": [],
   "source": [
    "df = pd.read_csv(path+\"bike.csv\")\n",
    "#df = pd.read_csv(path+\"bike.csv\", sep=\"\\t\")"
   ]
  },
  {
   "cell_type": "markdown",
   "id": "5a04c9a3",
   "metadata": {},
   "source": [
    "# 객체 알아보기"
   ]
  },
  {
   "cell_type": "code",
   "execution_count": null,
   "id": "6658f43e",
   "metadata": {},
   "outputs": [],
   "source": [
    "set([1, 1, 2, 3, 3])\n",
    "len([3, 5, 7, 8])\n",
    "type([1, 2, 3])\n",
    "\n",
    "# numpy\n",
    "arr = np.array([[1, 2, 3], [10, 9, 8]])\n",
    "arr.min() ## 1\n",
    "arr.max() ## 10\n",
    "arr.mean() ## 5.5\n",
    "arr.argmax() ## 3\n",
    "arr.argmin() ## 0\n",
    "arr.ndim ## 2, 차원\n",
    "arr.shape ## (2, 3), 각 차원의 길이\n",
    "arr.dtype ## dtype('int32'), 데이터 타입\n",
    "\n",
    "# pandas : Series\n",
    "ser = pd.Series([1, 3, 5, 8, 4])\n",
    "ser.min() ## 1\n",
    "ser.max() ## 8\n",
    "ser.mean() ## 4.2\n",
    "ser.var() ## 6.700000000000001\n",
    "ser.std() ## 2.5884358211089573\n",
    "ser.skew() ## 0.5016571985664492 #왜도\n",
    "ser.kurt() ## 0.7952773446201817 #첨도\n",
    "ser.idxmin() ## 0\n",
    "ser.idxmax() ## 3\n",
    "ser.ndim ## 1\n",
    "ser.shape # (5,)\n",
    "ser.dtype # dtype('int64')\n",
    "\n",
    "df[\"Sepal_Length\"].quantile(q=0.25) # 사분위수\n",
    "df=df.rename(columns={\"Sepal.Length\":\"SL\"}) # 컬럼명 변경"
   ]
  },
  {
   "cell_type": "markdown",
   "id": "f6b3928d",
   "metadata": {},
   "source": [
    "# 연산\n",
    "- **: 지수 연산. 지수에 0.5을 입력할 경우 제곱근(root)으로 연산되어 np.sqrt() 대체 가능\n",
    "- //: 나눗셈의 몫. 연령대 같은 경우 다섯살, 열살 단위로 나눌 때 유용하게 사용할 수 있다.\n",
    "- %: 나눗셈의 나머지. 홀수와 짝수를 판별할 때 유용하게 사용할 수 있다.\n",
    "- +: 문자열의 경우 이어붙일 수 있다. 단, 숫자는 문자로 변환 후 사용해야 한다.\n",
    "- -: 리스트의 경우 -1은 마지막 원소, 데이터프레임 변수의 경우 마지막을 선택할 수 있다."
   ]
  },
  {
   "cell_type": "code",
   "execution_count": null,
   "id": "333eed2c",
   "metadata": {},
   "outputs": [],
   "source": [
    "ser.astype(\"str\") + \"세\"\n",
    "## 0    20세\n",
    "## 1    42세\n",
    "## 2    39세\n",
    "## 3    16세\n",
    "## dtype: object\n",
    "\n",
    "\"y ~ \" + \" + \".join([\"col_A\", \"col_B\", \"col_C\"])\n",
    "## 'y ~ col_A + col_B + col_C'"
   ]
  },
  {
   "cell_type": "markdown",
   "id": "e6729d41",
   "metadata": {},
   "source": [
    "# numpy"
   ]
  },
  {
   "cell_type": "code",
   "execution_count": null,
   "id": "b76d023e",
   "metadata": {},
   "outputs": [],
   "source": [
    "arr = np.arange(6).reshape(2, 3)\n",
    "arr\n",
    "## array([[0, 1, 2],\n",
    "##        [3, 4, 5]])\n",
    "\n",
    "np.where(arr <= 2, 1, 0)\n",
    "## array([[1, 1, 1],\n",
    "##        [0, 0, 0]])\n",
    "\n",
    "np.r_[2, 4, 6, 12:16]\n",
    "## array([ 2,  4,  6, 12, 13, 14, 15])"
   ]
  },
  {
   "cell_type": "markdown",
   "id": "7ef35570",
   "metadata": {},
   "source": [
    "# pandas"
   ]
  },
  {
   "cell_type": "code",
   "execution_count": null,
   "id": "ba0c0985",
   "metadata": {},
   "outputs": [],
   "source": [
    "ser = pd.Series([20, 42, 39, 16])\n",
    "ser.index\n",
    "## RangeIndex(start=0, stop=4, step=1)\n",
    "\n",
    "ser.index.values\n",
    "## array([0, 1, 2, 3], dtype=int64)"
   ]
  },
  {
   "cell_type": "code",
   "execution_count": null,
   "id": "6ad0febd",
   "metadata": {},
   "outputs": [],
   "source": [
    "ser.reset_index(drop = True)"
   ]
  },
  {
   "cell_type": "code",
   "execution_count": null,
   "id": "ffd0a7bf",
   "metadata": {},
   "outputs": [],
   "source": [
    "ser.reset_index(drop = False)"
   ]
  },
  {
   "cell_type": "code",
   "execution_count": null,
   "id": "3c645aaf",
   "metadata": {},
   "outputs": [],
   "source": [
    "df = pd.DataFrame({\"type\": [\"A\", \"A\", \"B\", \"B\"],\n",
    "                   \"value\": [15, 20, 25, 30]})\n",
    "df"
   ]
  },
  {
   "cell_type": "code",
   "execution_count": null,
   "id": "3b8f17ed",
   "metadata": {},
   "outputs": [],
   "source": [
    "df.index\n",
    "## RangeIndex(start=0, stop=2, step=1)\n",
    "df.index.values\n",
    "## array([0, 1, 2, 3], dtype=int64)\n",
    "df.columns\n",
    "## Index(['a', 'b'], dtype='object')\n",
    "df.columns.values\n",
    "## array(['type', 'value'], dtype=object)"
   ]
  },
  {
   "cell_type": "code",
   "execution_count": null,
   "id": "cdc295c8",
   "metadata": {},
   "outputs": [],
   "source": [
    "df.reset_index()"
   ]
  },
  {
   "cell_type": "code",
   "execution_count": null,
   "id": "783ece56",
   "metadata": {},
   "outputs": [],
   "source": [
    "df.set_index(\"type\")\n",
    "df.set_index(\"type\").reset_index() #type col을 맨앞으로"
   ]
  },
  {
   "cell_type": "code",
   "execution_count": null,
   "id": "1d8d289a",
   "metadata": {},
   "outputs": [],
   "source": [
    "df = pd.DataFrame({\"type\": [\"A\", \"A\", \"B\", \"B\"],\n",
    "                   \"value\": [15, 20, 25, 30]})\n",
    "df"
   ]
  },
  {
   "cell_type": "code",
   "execution_count": null,
   "id": "dcfd8b38",
   "metadata": {},
   "outputs": [],
   "source": [
    "df.rename(columns = {\"type\": \"group\"})"
   ]
  },
  {
   "cell_type": "markdown",
   "id": "d0292eba",
   "metadata": {
    "tags": []
   },
   "source": [
    "# 요약하기\n",
    "- .value_counts(normalize=True): 특정 변수의 원소 개수를 세어준다(유일값계산). \n",
    "- .groupby(): 특정 변수를 기준으로 묶어서 연산한다. 2개 이상의 변수 선언시 리스트로 묶어준다. 뒤에는 Series 기본 메서드나 .agg()를 붙여 연산한다.\n",
    "- .where(): 특정 조건이 아닌 것은 결측값으로 만든다. 가끔 np.where() 대신 사용을 하기도 하는데 딱히 사용을 권장하지 않는다.\n",
    "\n",
    "- pd.crosstab(): 두 변수의 원소간 조합 빈도 확인. .value_counts()와 같이 normalize 인자를 사용하여 다양한 비율을 계산할 수 있다."
   ]
  },
  {
   "cell_type": "markdown",
   "id": "6e48483b",
   "metadata": {},
   "source": [
    "### groupby\n",
    "https://teddylee777.github.io/pandas/pandas-groupby/\n",
    "df.groupby('col').agg()에서 agg에 넣을수 있는것들\n",
    "\n",
    "- count\t데이터의 개수\n",
    "- sum\t합계\n",
    "- mean\t평균\n",
    "- median\t중앙값\n",
    "- var, std\t분산, 표준편차\n",
    "- min, max\t최소, 최대값\n",
    "- unique, nunique\t고유값, 고유값 개수\n",
    "- prod\t곲\n",
    "- first, last\t첫째, 마지막값"
   ]
  },
  {
   "cell_type": "code",
   "execution_count": null,
   "id": "be4bcde1",
   "metadata": {},
   "outputs": [],
   "source": [
    "import pandas as pd\n",
    "import numpy as np\n",
    "from sklearn.model_selection import train_test_split\n",
    "filepath=path+\"bike.csv\"\n",
    "df=pd.read_csv(filepath)\n",
    "df.head(4)"
   ]
  },
  {
   "cell_type": "code",
   "execution_count": null,
   "id": "cfaec0ac",
   "metadata": {},
   "outputs": [],
   "source": [
    "df.groupby('weather').mean()"
   ]
  },
  {
   "cell_type": "code",
   "execution_count": null,
   "id": "76f774b2",
   "metadata": {},
   "outputs": [],
   "source": [
    "df.groupby('weather').agg(['mean','var']) #weather 같은거끼리 묶고, mean도 계산하고 var도 계산하고"
   ]
  },
  {
   "cell_type": "code",
   "execution_count": null,
   "id": "b5107931",
   "metadata": {},
   "outputs": [],
   "source": [
    "# 컬럼을 평탄화\n",
    "def flat_cols(df):\n",
    "    df.columns = [' / '.join(x) for x in df.columns.to_flat_index()]\n",
    "    return df\n",
    "\n",
    "#원하는것들끼리, 원하는 함수 적용 가능\n",
    "df.groupby('weather').agg({ 'temp':'max',\n",
    "                           'humidity':'mean',\n",
    "                           'windspeed':['min','max']}).pipe(flat_cols)"
   ]
  },
  {
   "cell_type": "code",
   "execution_count": null,
   "id": "9a754442",
   "metadata": {},
   "outputs": [],
   "source": [
    "# wheather끼리 묶되, temp랑 humidity 컬럼만 고려할거고, 계산함수는 lambda\n",
    "df.groupby(\"weather\")[['temp','humidity']].agg(lambda x: x.mean()/x.std())"
   ]
  },
  {
   "cell_type": "code",
   "execution_count": null,
   "id": "7afe8a06",
   "metadata": {},
   "outputs": [],
   "source": [
    "df.groupby('weather')[['temp','humidity']].mean().reset_index()"
   ]
  },
  {
   "cell_type": "markdown",
   "id": "bf7ca4f0",
   "metadata": {},
   "source": [
    "### where"
   ]
  },
  {
   "cell_type": "code",
   "execution_count": null,
   "id": "21cc624c",
   "metadata": {},
   "outputs": [],
   "source": [
    "filepath=path+\"iris.csv\"\n",
    "df=pd.read_csv(filepath)\n",
    "df[\"is_setosa\"] = np.where(df[\"Species\"]==\"setosa\",1,0) # 특정 조건이면 1, 아니면 0"
   ]
  },
  {
   "cell_type": "markdown",
   "id": "0dd473d5",
   "metadata": {},
   "source": [
    "### crosstab"
   ]
  },
  {
   "cell_type": "code",
   "execution_count": null,
   "id": "ca406b60",
   "metadata": {},
   "outputs": [],
   "source": [
    "df = pd.DataFrame({\"type\": [\"A\", \"A\", \"B\", \"B\"],\n",
    "                   \"value\": [15, 20, 25, 30]})"
   ]
  },
  {
   "cell_type": "code",
   "execution_count": null,
   "id": "861b882f",
   "metadata": {},
   "outputs": [],
   "source": [
    "pd.crosstab(df[\"type\"], df[\"value\"], normalize = True) # 전체 중 특정 원소의 비율\n"
   ]
  },
  {
   "cell_type": "code",
   "execution_count": null,
   "id": "5da1eb5f",
   "metadata": {},
   "outputs": [],
   "source": [
    "pd.crosstab(df[\"type\"], df[\"value\"], normalize = 1) # column 방향"
   ]
  },
  {
   "cell_type": "code",
   "execution_count": null,
   "id": "7bbe7dc0-522f-4ee3-8620-0f41a4cfab4c",
   "metadata": {
    "tags": []
   },
   "outputs": [],
   "source": [
    "import pandas as pd\n",
    "import numpy as np\n",
    "from sklearn.model_selection import train_test_split\n",
    "\n",
    "dia=pd.read_csv(path+\"diamonds.csv\")\n",
    "df_B=pd.read_csv(path+\"elec_load_2017_7d.csv\")\n",
    "dia.head(2)"
   ]
  },
  {
   "cell_type": "code",
   "execution_count": null,
   "id": "9ff7d04a-38d8-43cf-9564-8ed745bda3c5",
   "metadata": {},
   "outputs": [],
   "source": [
    "pd.crosstab(dia[\"cut\"], dia[\"clarity\"], values=dia[\"price\"], aggfunc=pd.Series.mean).round(3) \n",
    "# 클러스터링 하기전에 데이터 구조 바꾸기도 함 "
   ]
  },
  {
   "cell_type": "code",
   "execution_count": null,
   "id": "1d6720d3-c630-42da-8f24-d8112e6beed2",
   "metadata": {
    "tags": []
   },
   "outputs": [],
   "source": [
    "dia_agg=dia.groupby([\"cut\",\"clarity\"])[\"price\"].mean().reset_index()\n",
    "dia_agg.head(10)"
   ]
  },
  {
   "cell_type": "code",
   "execution_count": null,
   "id": "163490d9-64a7-45b2-a4b0-e0b1b33b947e",
   "metadata": {},
   "outputs": [],
   "source": [
    "dia_agg.sort_values([\"cut\",\"clarity\"], ascending=[True,False]).head()"
   ]
  },
  {
   "cell_type": "markdown",
   "id": "bb47014a",
   "metadata": {
    "tags": []
   },
   "source": [
    "# 피벗\n",
    "- .melt(): wide form 데이터를 long form 데이터로 변환. 주로 통계처리 직전이나 그래프 그리기 직전의 데이터 모양을 만들 때 사용한다.\n",
    "- .pivot_table(): long form 데이터를 wide form 데이터로 변환. 데이터를 요약할 수 있으며 주로 군집분석(clustering analysis) 직전의 데이터 모양을 만들 때 사용한다.\n",
    "- .transpose(): 행렬을 전치시키는 것과 같은 동작을 한다. 활용도는 낮으나 가끔 임시 방편으로 활용하기도 한다."
   ]
  },
  {
   "cell_type": "code",
   "execution_count": null,
   "id": "ca20bfb7",
   "metadata": {},
   "outputs": [],
   "source": [
    "#https://fhaktj8-18.tistory.com/entry/%ED%8C%8C%EC%9D%B4%EC%8D%AC-pandasmelt%EB%A1%9C-%EB%8D%B0%EC%9D%B4%ED%84%B0-%EC%9E%AC%EA%B5%AC%EC%A1%B0%ED%99%94-melt-vs-pivot\n",
    "df=pd.DataFrame({'store':['Costco','Costco','Costco','Wal-Mart','Wal-Mart','Wal-Mart',\"Sam's Club\",\"Sam's Club\",\"Sam's Club\"],\n",
    "               'product':['Potato','Onion','Cucumber','Potato','Onion','Cucumber','Potato','Onion','Cucumber'],\n",
    "               'price':[3000,1600,2600,3200,1200,2100,2000,2300,3000],\n",
    "                'quantity':[25,31,57,32,36,21,46,25,9]})\n",
    "df"
   ]
  },
  {
   "cell_type": "code",
   "execution_count": null,
   "id": "5f6dd317",
   "metadata": {},
   "outputs": [],
   "source": [
    "#이렇게 product와 store을 제외한 열들이 \n",
    "# 'variable' : 컬럼명\n",
    "# 'value' : 컬럼에 해당하는 값\n",
    "df.melt(id_vars=['product','store'])"
   ]
  },
  {
   "cell_type": "code",
   "execution_count": null,
   "id": "93d57b34",
   "metadata": {},
   "outputs": [],
   "source": [
    "df.melt(id_vars=['product','store'],value_vars='quantity')"
   ]
  },
  {
   "cell_type": "code",
   "execution_count": null,
   "id": "160c8cdb",
   "metadata": {},
   "outputs": [],
   "source": [
    "# 데이터를 요약하거나 군집분석 실시 전 데이터 전처리에 주로 활용\n",
    "df.pivot(\n",
    "    index='product',\n",
    "    columns='store',\n",
    "    values='price')"
   ]
  },
  {
   "cell_type": "code",
   "execution_count": null,
   "id": "b83567d7",
   "metadata": {},
   "outputs": [],
   "source": [
    "elec=pd.read_csv(path+\"/elec_load_2017_7d.csv\")\n",
    "elec_melt=elec.melt(id_vars=[\"YEAR\",\"MONTH\",\"DAY\"])\n",
    "elec_melt.head(10)"
   ]
  },
  {
   "cell_type": "code",
   "execution_count": null,
   "id": "9cb7a15f-92f4-4a9b-a46b-1071997eccf7",
   "metadata": {
    "tags": []
   },
   "outputs": [],
   "source": [
    "elec_melt.pivot(index=[\"YEAR\",\"MONTH\",\"DAY\"],columns=\"variable\",values=\"value\") #.reset_index()"
   ]
  },
  {
   "cell_type": "markdown",
   "id": "b336f3d4",
   "metadata": {
    "tags": []
   },
   "source": [
    "# 시간처리"
   ]
  },
  {
   "cell_type": "code",
   "execution_count": null,
   "id": "2355ac68",
   "metadata": {},
   "outputs": [],
   "source": [
    "ser_t_01 = pd.Series([\"2077-01-01\", \"2077-12-28\"])\n",
    "ser_t_01 = pd.to_datetime(ser_t_01)\n",
    "ser_t_01\n",
    "## 0   2077-01-01\n",
    "## 1   2077-12-28\n",
    "## dtype: datetime64[ns]\n",
    "\n",
    "ser_t_02 = pd.Series([\"2077년 01월 01일\", \"2077년 12월 28일\"])\n",
    "ser_t_02 = pd.to_datetime(ser_t_02, format = \"%Y년 %m월 %d일\")\n",
    "ser_t_02\n",
    "## 0   2077-01-01\n",
    "## 1   2077-12-28\n",
    "## dtype: datetime64[ns]\n",
    "\n",
    "pd.to_datetime([1,2], origin=\"2000-01-01\",unit=\"D\") # 기준일부터 1D, 2Day 뒤의 값을 반환"
   ]
  },
  {
   "cell_type": "code",
   "execution_count": null,
   "id": "c7d7f0c9",
   "metadata": {},
   "outputs": [],
   "source": [
    "ser_t_01.dt.year\n",
    "## 0    2077\n",
    "## 1    2077\n",
    "## dtype: int64\n",
    "\n",
    "ser_t_01.dt.month\n",
    "## 0     1\n",
    "## 1    12\n",
    "## dtype: int64\n",
    "\n",
    "ser_t_01.dt.dayofweek    # weekday인지 확인 필요\n",
    "## 0    4\n",
    "## 1    1\n",
    "## dtype: int64"
   ]
  },
  {
   "cell_type": "markdown",
   "id": "78cb42ca",
   "metadata": {},
   "source": [
    "# 기타 (정리 대기)\n",
    "- cut() : bins인자에 구간 구분 기준값을 할당하고 labels 인자에는 각 구간에 붙일 이름을 할당한다. 개구간, 폐구간과 관련된 설정인 right 인자의 사용에 유의\n",
    "- .concat(): 두 개 이상의 데이터프레임을 합침\n",
    "※ axis 사용에 주의. 인덱스 문제 발생 가능\n",
    "- .merge(): 두 데이터프레임 병합(join)\n",
    "※ df1.merge(df2, left_on = “col1”, right_on = “col2”, how = “left”)\n",
    "※ how: “left”, “right”, “inner”, “outer”\n",
    "- .sort_values(): 지정 변수 기준 데이터프레임 정렬(오름차순, 내림차순)\n",
    "- .sample(): 특정 row를 단순 임의 추출\n",
    "※ n: 정수로 입력하며 row개수 지정, frac: 비율로 입력(0~1)\n",
    "- pd.get_dummies(): 가변수 생성. 필요시 drop_first = True로 첫 가변수 제거 가능\n",
    "- ser.shift(2) #2칸 순환,"
   ]
  },
  {
   "cell_type": "code",
   "execution_count": null,
   "id": "b142f2a3",
   "metadata": {},
   "outputs": [],
   "source": [
    "filepath=path+\"bike.csv\"\n",
    "bike=pd.read_csv(filepath)\n",
    "bike.head(2)\n",
    "bike_dum=pd.get_dummies(data=bike,columns=[\"season\"],drop_first=True)"
   ]
  },
  {
   "cell_type": "code",
   "execution_count": null,
   "id": "318663e0",
   "metadata": {},
   "outputs": [],
   "source": [
    "df=pd.DataFrame([[\"A\",3],[\"C\",1],[\"B\",2]],\n",
    "               columns=[\"class\",\"value\"])\n",
    "df.sort_values(by=\"class\")\n",
    "df.sort_index()"
   ]
  },
  {
   "cell_type": "code",
   "execution_count": null,
   "id": "f3c8cc90",
   "metadata": {},
   "outputs": [],
   "source": [
    "pd.concat([df_1, df_2])\n",
    "pd.concat([df_1, df_2], axis=1)\n",
    "pd.concat([df_1, df_2.reset_index(drop=True)], axis=1)"
   ]
  },
  {
   "cell_type": "markdown",
   "id": "27efe668",
   "metadata": {},
   "source": [
    "# string"
   ]
  },
  {
   "cell_type": "code",
   "execution_count": null,
   "id": "1be0a88a",
   "metadata": {},
   "outputs": [],
   "source": [
    "str.replace({\"aa\":\"b\",\"abc\":\"c\"})\n",
    "df.loc[df[\"col\"].str.contains(\"b\"), ] #정규표현식 가능\n",
    "df[\"col\"].str.split(\"@\",expand=True)# df형태 유지하면서 쪼개서 저장\n",
    "df[\"col\"].str.split(\"@\").explode().reset_index()\n",
    ".str.get(-1) #마지막 문자 추출\n",
    ".slice() #지정된 범위의 문자 추출\n",
    ".extract() #조건(pat)에 맞는 텍스트 추출하며 group을 지정해야 함.\n",
    ".lower() #영문 대문자를 영문 소문자로 치환\n",
    ".zfill() #지정한 길이보다 문자열의 길이가 짧을 경우 앞에 숫자 0을 채워줌"
   ]
  },
  {
   "cell_type": "markdown",
   "id": "c22392c0",
   "metadata": {
    "tags": []
   },
   "source": [
    "# 결측치, 필터링\n",
    "- .drop(): 특정 변수 제거 가능\n",
    "- .dropna(): 결측치가 있는 row 제거 가능\n",
    "※ how: “any”, “all”\n",
    "- .fillna(): 결측치를 특정 값으로 치환(Series에도 사용 가능)"
   ]
  },
  {
   "cell_type": "code",
   "execution_count": null,
   "id": "2a342541",
   "metadata": {},
   "outputs": [],
   "source": []
  },
  {
   "cell_type": "code",
   "execution_count": null,
   "id": "5ae1226e",
   "metadata": {},
   "outputs": [],
   "source": [
    "df=pd.read_csv(path+\"bike.csv\")\n",
    "df.head()"
   ]
  },
  {
   "cell_type": "code",
   "execution_count": null,
   "id": "4707ecdb",
   "metadata": {},
   "outputs": [],
   "source": [
    "df.loc[df[\"casual\"].isin([3,5]),].head(5)"
   ]
  },
  {
   "cell_type": "code",
   "execution_count": null,
   "id": "5ed19723",
   "metadata": {},
   "outputs": [],
   "source": [
    "df.loc[ (df[\"casual\"]==3) & ~(df[\"registered\"]==13) \\\n",
    "       ,].head(5)"
   ]
  },
  {
   "cell_type": "code",
   "execution_count": null,
   "id": "0ea18770",
   "metadata": {},
   "outputs": [],
   "source": [
    "df.loc[[df[\"casual\"].idxmax()],]"
   ]
  },
  {
   "cell_type": "code",
   "execution_count": null,
   "id": "04fd9857",
   "metadata": {},
   "outputs": [],
   "source": [
    "df[\"season\"].unique()"
   ]
  },
  {
   "cell_type": "code",
   "execution_count": null,
   "id": "3f06d666",
   "metadata": {},
   "outputs": [],
   "source": [
    "df.isna().sum()"
   ]
  },
  {
   "cell_type": "code",
   "execution_count": null,
   "id": "23e774b7",
   "metadata": {},
   "outputs": [],
   "source": [
    "df.notnull().head(5)"
   ]
  },
  {
   "cell_type": "code",
   "execution_count": null,
   "id": "5a878f2f",
   "metadata": {},
   "outputs": [],
   "source": [
    "df.fillna(value={\"Sepal_Length\":999,\n",
    "                   \"Sepal_Width\":111})\n",
    "df_na_fill_mean=df_na.fillna(value={\"Sepal_Width\":df_na[\"Sepal_Width\"].mean()})\n",
    "df.fillna(\"hello\")\n",
    "df.info()\n",
    "df.count()\n",
    "df.dropna()"
   ]
  },
  {
   "cell_type": "raw",
   "id": "54b411eb",
   "metadata": {},
   "source": []
  },
  {
   "cell_type": "markdown",
   "id": "c573bf87",
   "metadata": {},
   "source": [
    "# apply"
   ]
  },
  {
   "cell_type": "markdown",
   "id": "3cdf1b80",
   "metadata": {},
   "source": [
    "import pandas as pd\n",
    "import numpy as np\n",
    "from sklearn.model_selection import train_test_split\n",
    "\n",
    "filepath=path+\"bike.csv\"\n",
    "bike=pd.read_csv(filepath)\n",
    "bike.head(2)\n",
    "bike_sub.mean()\n",
    "bike_sub.apply(func=pd.Series.mean, axis=1)\n",
    "bike_sub.apply(func = lambda x: round(x.mean()))"
   ]
  },
  {
   "cell_type": "markdown",
   "id": "a3b30320-b3ae-47ef-a320-22404b2e3a7e",
   "metadata": {},
   "source": [
    "# binding, join 병합\n",
    "- concat\n",
    "- merge\n",
    "- join\n",
    "    - inner join\n",
    "    - left join\n",
    "- pandas\n",
    "    - reset_index\n",
    "    - set_index"
   ]
  },
  {
   "cell_type": "markdown",
   "id": "773f1101-99d9-47c8-99f0-1c89119b8cb6",
   "metadata": {
    "jp-MarkdownHeadingCollapsed": true,
    "tags": []
   },
   "source": [
    "#### concat"
   ]
  },
  {
   "cell_type": "code",
   "execution_count": null,
   "id": "c200b097-13fd-4dba-b4f7-48b65d6a21a7",
   "metadata": {},
   "outputs": [],
   "source": [
    "filepath=path+\"/bike.csv\"\n",
    "bike=pd.read_csv(filepath)\n",
    "bike.head(2)\n",
    "bike_1=bike.iloc[:3,:4]\n",
    "bike_2=bike.iloc[5:8,:4]\n",
    "print(bike_1)\n",
    "print(bike_2)"
   ]
  },
  {
   "cell_type": "code",
   "execution_count": null,
   "id": "821febb5-b39d-415a-b4a4-c87d1506a90a",
   "metadata": {},
   "outputs": [],
   "source": [
    "pd.concat([bike_1,bike_2])"
   ]
  },
  {
   "cell_type": "code",
   "execution_count": null,
   "id": "41fca7c3-5b3a-4c0a-8c56-1b69701c19d6",
   "metadata": {
    "tags": []
   },
   "outputs": [],
   "source": [
    "pd.concat([bike_1,bike_2.reset_index(drop=True)])"
   ]
  },
  {
   "cell_type": "code",
   "execution_count": null,
   "id": "61c6c520-4070-4892-93e2-4a565d791877",
   "metadata": {
    "tags": []
   },
   "outputs": [],
   "source": [
    "pd.concat([bike_1,bike_2.reset_index(drop=True)],axis=1)"
   ]
  },
  {
   "cell_type": "markdown",
   "id": "dd104503-0a53-4611-ba47-da90d38d2053",
   "metadata": {
    "jp-MarkdownHeadingCollapsed": true,
    "tags": []
   },
   "source": [
    "#### merge\n",
    "https://yganalyst.github.io/data_handling/Pd_12/"
   ]
  },
  {
   "cell_type": "code",
   "execution_count": null,
   "id": "bcf901d2-d8c1-4a65-88b6-96e448138b98",
   "metadata": {},
   "outputs": [],
   "source": [
    "import pandas as pd\n",
    "import numpy as np\n",
    "from sklearn.model_selection import train_test_split\n",
    "\n",
    "df_A=pd.read_csv(path+\"/join_data_group_members.csv\")\n",
    "df_B=pd.read_csv(path+\"/join_data_member_room.csv\")"
   ]
  },
  {
   "cell_type": "code",
   "execution_count": null,
   "id": "888111cc-cb3f-4f88-8fc4-e79cb880ada0",
   "metadata": {
    "tags": []
   },
   "outputs": [],
   "source": [
    "# 아무 옵션 적용 X, \n",
    "## pd.merge(df1, df2)\n",
    "#: 공통적인 컬럼을 기준으로 inner조인\n",
    "\n",
    "## pd.merge(df1,df2, how='outer',on='id')\n",
    "#: id를 기준으로 합침. 단 어느한쪽에라도 없는 데이터가 있으면 NaN지정.\n",
    "\n",
    "## pd.merge(df1,df2, how='left', left_on='stock_name', right_on='name')\n",
    "#: left df를 기준으로, left df의 컬럼명과 right의 컬럼을 비교하는데,\n",
    "#: 합칠때는 left df의 고윳값만 살리고 나머지는 버림."
   ]
  },
  {
   "cell_type": "code",
   "execution_count": null,
   "id": "553d8fed-7149-488b-8b74-0ec0418a4c51",
   "metadata": {},
   "outputs": [],
   "source": [
    "df_A.head(2)"
   ]
  },
  {
   "cell_type": "code",
   "execution_count": null,
   "id": "bfea8378-fb47-43fb-a67b-fb72d6396463",
   "metadata": {},
   "outputs": [],
   "source": [
    "df_B.head(2)"
   ]
  },
  {
   "cell_type": "code",
   "execution_count": null,
   "id": "a13c62f2-a02e-4555-9f72-cfd3cd798423",
   "metadata": {
    "tags": []
   },
   "outputs": [],
   "source": [
    "## 기준열 이름이 다를 때 **_on 이렇게 컬럼명 지정\n",
    "# how inner라서 공통적인것만 추출\n",
    "pd.merge(left=df_A, right=df_B, left_on=\"member\", right_on=\"name\",how=\"inner\") "
   ]
  },
  {
   "cell_type": "markdown",
   "id": "a5e5993c-4134-4c45-ba13-e802716e43ae",
   "metadata": {},
   "source": [
    "#### join"
   ]
  },
  {
   "cell_type": "code",
   "execution_count": null,
   "id": "56de6a9d-f64e-464d-b6ea-521b985fb236",
   "metadata": {
    "tags": []
   },
   "outputs": [],
   "source": [
    "# df1.set_index('id', inplace=True)\n",
    "# df2.set_index('id', inplace=True)\n",
    "# df1.join(df2, how='inner')"
   ]
  },
  {
   "cell_type": "code",
   "execution_count": null,
   "id": "1f042dbd-dcd9-4dd7-8b24-b582e6cd470a",
   "metadata": {},
   "outputs": [],
   "source": []
  }
 ],
 "metadata": {
  "kernelspec": {
   "display_name": "Python 3 (ipykernel)",
   "language": "python",
   "name": "python3"
  },
  "language_info": {
   "codemirror_mode": {
    "name": "ipython",
    "version": 3
   },
   "file_extension": ".py",
   "mimetype": "text/x-python",
   "name": "python",
   "nbconvert_exporter": "python",
   "pygments_lexer": "ipython3",
   "version": "3.9.13"
  }
 },
 "nbformat": 4,
 "nbformat_minor": 5
}
